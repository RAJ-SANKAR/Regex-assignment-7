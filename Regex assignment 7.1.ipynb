{
 "cells": [
  {
   "cell_type": "markdown",
   "id": "c949c261",
   "metadata": {},
   "source": [
    "# TASK 7\n",
    "\n",
    "Registration ID : SIRSS2140\n",
    "\n",
    "RAJ SANKAR GS"
   ]
  },
  {
   "cell_type": "markdown",
   "id": "9393d9bb",
   "metadata": {},
   "source": [
    "# Q1. Implement gradient descent (for simple linear regression) from scratch."
   ]
  },
  {
   "cell_type": "code",
   "execution_count": 1,
   "id": "f6b19cc0",
   "metadata": {},
   "outputs": [],
   "source": [
    "import numpy as np\n",
    "import pandas as pd\n",
    "import matplotlib.pyplot as plt\n",
    "import seaborn as sns"
   ]
  },
  {
   "cell_type": "code",
   "execution_count": 2,
   "id": "c40e4889",
   "metadata": {},
   "outputs": [],
   "source": [
    "df = sns.load_dataset('iris')"
   ]
  },
  {
   "cell_type": "code",
   "execution_count": 3,
   "id": "502d8d76",
   "metadata": {},
   "outputs": [
    {
     "data": {
      "text/html": [
       "<div>\n",
       "<style scoped>\n",
       "    .dataframe tbody tr th:only-of-type {\n",
       "        vertical-align: middle;\n",
       "    }\n",
       "\n",
       "    .dataframe tbody tr th {\n",
       "        vertical-align: top;\n",
       "    }\n",
       "\n",
       "    .dataframe thead th {\n",
       "        text-align: right;\n",
       "    }\n",
       "</style>\n",
       "<table border=\"1\" class=\"dataframe\">\n",
       "  <thead>\n",
       "    <tr style=\"text-align: right;\">\n",
       "      <th></th>\n",
       "      <th>sepal_length</th>\n",
       "      <th>sepal_width</th>\n",
       "      <th>petal_length</th>\n",
       "      <th>petal_width</th>\n",
       "      <th>species</th>\n",
       "    </tr>\n",
       "  </thead>\n",
       "  <tbody>\n",
       "    <tr>\n",
       "      <th>0</th>\n",
       "      <td>5.1</td>\n",
       "      <td>3.5</td>\n",
       "      <td>1.4</td>\n",
       "      <td>0.2</td>\n",
       "      <td>setosa</td>\n",
       "    </tr>\n",
       "    <tr>\n",
       "      <th>1</th>\n",
       "      <td>4.9</td>\n",
       "      <td>3.0</td>\n",
       "      <td>1.4</td>\n",
       "      <td>0.2</td>\n",
       "      <td>setosa</td>\n",
       "    </tr>\n",
       "    <tr>\n",
       "      <th>2</th>\n",
       "      <td>4.7</td>\n",
       "      <td>3.2</td>\n",
       "      <td>1.3</td>\n",
       "      <td>0.2</td>\n",
       "      <td>setosa</td>\n",
       "    </tr>\n",
       "    <tr>\n",
       "      <th>3</th>\n",
       "      <td>4.6</td>\n",
       "      <td>3.1</td>\n",
       "      <td>1.5</td>\n",
       "      <td>0.2</td>\n",
       "      <td>setosa</td>\n",
       "    </tr>\n",
       "    <tr>\n",
       "      <th>4</th>\n",
       "      <td>5.0</td>\n",
       "      <td>3.6</td>\n",
       "      <td>1.4</td>\n",
       "      <td>0.2</td>\n",
       "      <td>setosa</td>\n",
       "    </tr>\n",
       "  </tbody>\n",
       "</table>\n",
       "</div>"
      ],
      "text/plain": [
       "   sepal_length  sepal_width  petal_length  petal_width species\n",
       "0           5.1          3.5           1.4          0.2  setosa\n",
       "1           4.9          3.0           1.4          0.2  setosa\n",
       "2           4.7          3.2           1.3          0.2  setosa\n",
       "3           4.6          3.1           1.5          0.2  setosa\n",
       "4           5.0          3.6           1.4          0.2  setosa"
      ]
     },
     "execution_count": 3,
     "metadata": {},
     "output_type": "execute_result"
    }
   ],
   "source": [
    "df.head()"
   ]
  },
  {
   "cell_type": "code",
   "execution_count": 4,
   "id": "38b02395",
   "metadata": {},
   "outputs": [
    {
     "data": {
      "text/plain": [
       "(150, 5)"
      ]
     },
     "execution_count": 4,
     "metadata": {},
     "output_type": "execute_result"
    }
   ],
   "source": [
    "df.shape"
   ]
  },
  {
   "cell_type": "markdown",
   "id": "e4d8565c",
   "metadata": {},
   "source": [
    "# Sepal Length vs Sepal Width of IRIS Setosa"
   ]
  },
  {
   "cell_type": "code",
   "execution_count": 5,
   "id": "ee060a62",
   "metadata": {},
   "outputs": [
    {
     "data": {
      "text/plain": [
       "-0.11756978413300208"
      ]
     },
     "execution_count": 5,
     "metadata": {},
     "output_type": "execute_result"
    }
   ],
   "source": [
    "df.sepal_length.corr(df.sepal_width)"
   ]
  },
  {
   "cell_type": "code",
   "execution_count": 6,
   "id": "132c3696",
   "metadata": {},
   "outputs": [],
   "source": [
    "#taking only first 50 columns of Iris-setosa species\n",
    "m,n=df.shape\n",
    "X=df.sepal_length.iloc[0:120].values.reshape(120,1)\n",
    "Y=df.sepal_width.iloc[0:120].values.reshape(120,1)"
   ]
  },
  {
   "cell_type": "code",
   "execution_count": 7,
   "id": "2330b64c",
   "metadata": {},
   "outputs": [
    {
     "data": {
      "image/png": "[encoded data removed]",
      "text/plain": [
       "<Figure size 432x288 with 1 Axes>"
      ]
     },
     "metadata": {
      "needs_background": "light"
     },
     "output_type": "display_data"
    }
   ],
   "source": [
    "plt.scatter(X,Y)\n",
    "plt.xlabel('Sepal Length(in cm)')\n",
    "plt.ylabel('Sepal Width(in cm)')\n",
    "plt.title('Sepal length vs width of Iris-Setosa Species',color='green',fontsize=16)\n",
    "plt.show()"
   ]
  },
  {
   "cell_type": "markdown",
   "id": "a0db82fc",
   "metadata": {},
   "source": [
    "# Without Gradient Descent"
   ]
  },
  {
   "cell_type": "code",
   "execution_count": 8,
   "id": "64ec5e78",
   "metadata": {},
   "outputs": [],
   "source": [
    "from sklearn import linear_model\n",
    "from sklearn.metrics import mean_squared_error"
   ]
  },
  {
   "cell_type": "code",
   "execution_count": 9,
   "id": "3dd47d60",
   "metadata": {},
   "outputs": [],
   "source": [
    "# Create linear regression model\n",
    "regr = linear_model.LinearRegression()"
   ]
  },
  {
   "cell_type": "code",
   "execution_count": 10,
   "id": "ee109868",
   "metadata": {},
   "outputs": [
    {
     "data": {
      "text/plain": [
       "LinearRegression()"
      ]
     },
     "execution_count": 10,
     "metadata": {},
     "output_type": "execute_result"
    }
   ],
   "source": [
    "# Train the model using the training sets\n",
    "regr.fit(X,Y)"
   ]
  },
  {
   "cell_type": "code",
   "execution_count": 11,
   "id": "7221a17f",
   "metadata": {},
   "outputs": [
    {
     "name": "stdout",
     "output_type": "stream",
     "text": [
      "Coefficients:  [[-0.09583906]]\n",
      "Intercept:  [3.61089698]\n"
     ]
    }
   ],
   "source": [
    "# The coefficients\n",
    "print('Coefficients: ', regr.coef_)\n",
    "# Intercept\n",
    "print('Intercept: ', regr.intercept_)\n",
    "\n",
    "#or # The coefficients\n",
    "#print('Coefficients: \\n', regr.coef_)\n",
    "# Intercept\n",
    "#print('Intercept: \\n', regr.intercept_)"
   ]
  },
  {
   "cell_type": "code",
   "execution_count": 12,
   "id": "35a853e8",
   "metadata": {},
   "outputs": [
    {
     "data": {
      "image/png": "[encoded data removed]",
      "text/plain": [
       "<Figure size 432x288 with 1 Axes>"
      ]
     },
     "metadata": {
      "needs_background": "light"
     },
     "output_type": "display_data"
    }
   ],
   "source": [
    "#Plotting Regression Line Against True Labels\n",
    "plt.scatter(X, Y,  color='black')\n",
    "plt.plot(X, regr.coef_[0][0]*X + regr.intercept_[0], '-b')\n",
    "plt.xlabel('Sepal Length(in cm)')\n",
    "plt.ylabel('Sepal Width(in cm)')\n",
    "plt.title('Sepal length vs width of Iris-Setosa Species',color='green',fontsize=16)\n",
    "plt.show()"
   ]
  },
  {
   "cell_type": "code",
   "execution_count": 13,
   "id": "5419d321",
   "metadata": {},
   "outputs": [
    {
     "name": "stdout",
     "output_type": "stream",
     "text": [
      "Mean squared error (Test Dataset): 7.592833\n"
     ]
    }
   ],
   "source": [
    "#Evaluate Model\n",
    "\n",
    "# The mean squared error\n",
    "\n",
    "print(\"Mean squared error (Test Dataset): %f\" %mean_squared_error(Y,X))\n",
    "\n"
   ]
  },
  {
   "cell_type": "markdown",
   "id": "384d736a",
   "metadata": {},
   "source": [
    "# With Gradient Descent"
   ]
  },
  {
   "cell_type": "code",
   "execution_count": 14,
   "id": "3938fdc8",
   "metadata": {},
   "outputs": [],
   "source": [
    "iterations = 100\n",
    "\n",
    "def gradient_descent(x,y):\n",
    "    m_curr = b_curr = 0\n",
    "    n = len(x)\n",
    "    learning_rate = 0.02\n",
    "    m = []\n",
    "    b = []\n",
    "    cost_func = []\n",
    "    \n",
    "    for i in range(iterations):\n",
    "        y_predicted = m_curr * x + b_curr\n",
    "        cost = (1/n) * sum((y - y_predicted)**2)\n",
    "        md = -(2/n) * sum(x*(y- y_predicted))\n",
    "        bd = -(2/n) * sum(y- y_predicted)\n",
    "        m_curr -= learning_rate * md\n",
    "        b_curr -= learning_rate * bd\n",
    "        print(\"i = {}, m = {}, b = {}, cost = {}\".format(i, m_curr, b_curr, cost))\n",
    "        m.append(m_curr)\n",
    "        b.append(b_curr)\n",
    "        cost_func.append(cost)\n",
    "    return m, b, cost_func"
   ]
  },
  {
   "cell_type": "code",
   "execution_count": 15,
   "id": "56026e98",
   "metadata": {},
   "outputs": [
    {
     "name": "stdout",
     "output_type": "stream",
     "text": [
      "i = 0, m = [0.69168], b = [0.12276667], cost = [9.63691667]\n",
      "i = 1, m = [0.45531407], b = [0.08423382], cost = [1.50509807]\n",
      "i = 2, m = [0.53531353], b = [0.10068462], cost = [0.55983331]\n",
      "i = 3, m = [0.50746643], b = [0.09838951], cost = [0.44970749]\n",
      "i = 4, m = [0.51638395], b = [0.10248244], cost = [0.4366323]\n",
      "i = 5, m = [0.51276904], b = [0.1043954], cost = [0.43483561]\n",
      "i = 6, m = [0.51342677], b = [0.10704917], cost = [0.43434996]\n",
      "i = 7, m = [0.51262838], b = [0.10944808], cost = [0.43401706]\n",
      "i = 8, m = [0.51232678], b = [0.11193154], cost = [0.43370229]\n",
      "i = 9, m = [0.51185623], b = [0.11438386], cost = [0.43339002]\n",
      "i = 10, m = [0.51144368], b = [0.11684448], cost = [0.43307843]\n",
      "i = 11, m = [0.51101175], b = [0.11929995], cost = [0.43276731]\n",
      "i = 12, m = [0.51058684], b = [0.12175487], cost = [0.43245662]\n",
      "i = 13, m = [0.51015994], b = [0.12420765], cost = [0.43214637]\n",
      "i = 14, m = [0.50973411], b = [0.12665885], cost = [0.43183656]\n",
      "i = 15, m = [0.50930832], b = [0.12910828], cost = [0.43152719]\n",
      "i = 16, m = [0.50888292], b = [0.131556], cost = [0.43121824]\n",
      "i = 17, m = [0.50845779], b = [0.134002], cost = [0.43090974]\n",
      "i = 18, m = [0.50803297], b = [0.13644628], cost = [0.43060166]\n",
      "i = 19, m = [0.50760844], b = [0.13888884], cost = [0.43029402]\n",
      "i = 20, m = [0.50718422], b = [0.14132969], cost = [0.42998682]\n",
      "i = 21, m = [0.50676029], b = [0.14376881], cost = [0.42968004]\n",
      "i = 22, m = [0.50633666], b = [0.14620623], cost = [0.42937369]\n",
      "i = 23, m = [0.50591332], b = [0.14864193], cost = [0.42906778]\n",
      "i = 24, m = [0.50549029], b = [0.15107591], cost = [0.42876229]\n",
      "i = 25, m = [0.50506755], b = [0.15350819], cost = [0.42845724]\n",
      "i = 26, m = [0.50464511], b = [0.15593875], cost = [0.42815261]\n",
      "i = 27, m = [0.50422296], b = [0.15836761], cost = [0.42784841]\n",
      "i = 28, m = [0.50380112], b = [0.16079476], cost = [0.42754464]\n",
      "i = 29, m = [0.50337957], b = [0.16322021], cost = [0.4272413]\n",
      "i = 30, m = [0.50295831], b = [0.16564394], cost = [0.42693838]\n",
      "i = 31, m = [0.50253735], b = [0.16806598], cost = [0.42663589]\n",
      "i = 32, m = [0.50211669], b = [0.17048631], cost = [0.42633382]\n",
      "i = 33, m = [0.50169632], b = [0.17290494], cost = [0.42603218]\n",
      "i = 34, m = [0.50127625], b = [0.17532187], cost = [0.42573096]\n",
      "i = 35, m = [0.50085648], b = [0.1777371], cost = [0.42543017]\n",
      "i = 36, m = [0.500437], b = [0.18015063], cost = [0.4251298]\n",
      "i = 37, m = [0.50001781], b = [0.18256247], cost = [0.42482985]\n",
      "i = 38, m = [0.49959892], b = [0.18497261], cost = [0.42453032]\n",
      "i = 39, m = [0.49918032], b = [0.18738106], cost = [0.42423121]\n",
      "i = 40, m = [0.49876202], b = [0.18978781], cost = [0.42393252]\n",
      "i = 41, m = [0.49834401], b = [0.19219287], cost = [0.42363426]\n",
      "i = 42, m = [0.4979263], b = [0.19459624], cost = [0.42333641]\n",
      "i = 43, m = [0.49750888], b = [0.19699792], cost = [0.42303898]\n",
      "i = 44, m = [0.49709175], b = [0.19939792], cost = [0.42274197]\n",
      "i = 45, m = [0.49667492], b = [0.20179622], cost = [0.42244538]\n",
      "i = 46, m = [0.49625838], b = [0.20419284], cost = [0.4221492]\n",
      "i = 47, m = [0.49584213], b = [0.20658777], cost = [0.42185344]\n",
      "i = 48, m = [0.49542617], b = [0.20898103], cost = [0.42155809]\n",
      "i = 49, m = [0.49501051], b = [0.21137259], cost = [0.42126316]\n",
      "i = 50, m = [0.49459514], b = [0.21376248], cost = [0.42096865]\n",
      "i = 51, m = [0.49418006], b = [0.21615069], cost = [0.42067455]\n",
      "i = 52, m = [0.49376527], b = [0.21853722], cost = [0.42038086]\n",
      "i = 53, m = [0.49335078], b = [0.22092207], cost = [0.42008758]\n",
      "i = 54, m = [0.49293657], b = [0.22330524], cost = [0.41979472]\n",
      "i = 55, m = [0.49252266], b = [0.22568674], cost = [0.41950227]\n",
      "i = 56, m = [0.49210904], b = [0.22806656], cost = [0.41921023]\n",
      "i = 57, m = [0.49169571], b = [0.23044471], cost = [0.4189186]\n",
      "i = 58, m = [0.49128266], b = [0.23282119], cost = [0.41862738]\n",
      "i = 59, m = [0.49086991], b = [0.235196], cost = [0.41833657]\n",
      "i = 60, m = [0.49045745], b = [0.23756914], cost = [0.41804617]\n",
      "i = 61, m = [0.49004528], b = [0.23994061], cost = [0.41775617]\n",
      "i = 62, m = [0.4896334], b = [0.24231041], cost = [0.41746659]\n",
      "i = 63, m = [0.48922181], b = [0.24467855], cost = [0.41717741]\n",
      "i = 64, m = [0.48881051], b = [0.24704502], cost = [0.41688864]\n",
      "i = 65, m = [0.4883995], b = [0.24940983], cost = [0.41660027]\n",
      "i = 66, m = [0.48798878], b = [0.25177298], cost = [0.41631231]\n",
      "i = 67, m = [0.48757834], b = [0.25413446], cost = [0.41602475]\n",
      "i = 68, m = [0.4871682], b = [0.25649429], cost = [0.4157376]\n",
      "i = 69, m = [0.48675834], b = [0.25885246], cost = [0.41545085]\n",
      "i = 70, m = [0.48634877], b = [0.26120896], cost = [0.4151645]\n",
      "i = 71, m = [0.48593949], b = [0.26356382], cost = [0.41487856]\n",
      "i = 72, m = [0.48553049], b = [0.26591701], cost = [0.41459302]\n",
      "i = 73, m = [0.48512179], b = [0.26826855], cost = [0.41430788]\n",
      "i = 74, m = [0.48471337], b = [0.27061844], cost = [0.41402314]\n",
      "i = 75, m = [0.48430523], b = [0.27296668], cost = [0.4137388]\n",
      "i = 76, m = [0.48389739], b = [0.27531327], cost = [0.41345486]\n",
      "i = 77, m = [0.48348983], b = [0.2776582], cost = [0.41317132]\n",
      "i = 78, m = [0.48308256], b = [0.28000149], cost = [0.41288818]\n",
      "i = 79, m = [0.48267557], b = [0.28234313], cost = [0.41260543]\n",
      "i = 80, m = [0.48226887], b = [0.28468312], cost = [0.41232309]\n",
      "i = 81, m = [0.48186246], b = [0.28702147], cost = [0.41204114]\n",
      "i = 82, m = [0.48145633], b = [0.28935818], cost = [0.41175959]\n",
      "i = 83, m = [0.48105049], b = [0.29169324], cost = [0.41147843]\n",
      "i = 84, m = [0.48064493], b = [0.29402666], cost = [0.41119766]\n",
      "i = 85, m = [0.48023966], b = [0.29635844], cost = [0.4109173]\n",
      "i = 86, m = [0.47983467], b = [0.29868858], cost = [0.41063732]\n",
      "i = 87, m = [0.47942997], b = [0.30101709], cost = [0.41035774]\n",
      "i = 88, m = [0.47902555], b = [0.30334395], cost = [0.41007856]\n",
      "i = 89, m = [0.47862142], b = [0.30566919], cost = [0.40979976]\n",
      "i = 90, m = [0.47821757], b = [0.30799278], cost = [0.40952136]\n",
      "i = 91, m = [0.47781401], b = [0.31031474], cost = [0.40924335]\n",
      "i = 92, m = [0.47741072], b = [0.31263507], cost = [0.40896572]\n",
      "i = 93, m = [0.47700773], b = [0.31495377], cost = [0.40868849]\n",
      "i = 94, m = [0.47660501], b = [0.31727084], cost = [0.40841165]\n",
      "i = 95, m = [0.47620258], b = [0.31958628], cost = [0.4081352]\n",
      "i = 96, m = [0.47580043], b = [0.32190009], cost = [0.40785914]\n",
      "i = 97, m = [0.47539856], b = [0.32421228], cost = [0.40758346]\n",
      "i = 98, m = [0.47499698], b = [0.32652284], cost = [0.40730817]\n",
      "i = 99, m = [0.47459568], b = [0.32883177], cost = [0.40703327]\n"
     ]
    }
   ],
   "source": [
    "m, b, cost_func = gradient_descent(X, Y)"
   ]
  },
  {
   "cell_type": "code",
   "execution_count": 16,
   "id": "ff370fe6",
   "metadata": {},
   "outputs": [
    {
     "data": {
      "image/png": "[encoded data removed]",
      "text/plain": [
       "<Figure size 432x288 with 1 Axes>"
      ]
     },
     "metadata": {
      "needs_background": "light"
     },
     "output_type": "display_data"
    }
   ],
   "source": [
    "plt.plot(np.arange(iterations),cost_func, color='b')\n",
    "plt.xlabel('Number of iterations',color='red')\n",
    "plt.ylabel('Cost',color='red')\n",
    "plt.title('Cost vs iterations',color='green',fontsize=16)\n",
    "plt.show()"
   ]
  },
  {
   "cell_type": "code",
   "execution_count": 17,
   "id": "d37ae603",
   "metadata": {},
   "outputs": [
    {
     "name": "stdout",
     "output_type": "stream",
     "text": [
      "Mean squared error (Test Dataset): 7.137604\n"
     ]
    }
   ],
   "source": [
    "print(\"Mean squared error (Test Dataset): %f\" %mean_squared_error(m[-1]*X + b[-1],X))"
   ]
  },
  {
   "cell_type": "code",
   "execution_count": 18,
   "id": "ff29cbb6",
   "metadata": {},
   "outputs": [
    {
     "data": {
      "image/png": "[encoded data removed]",
      "text/plain": [
       "<Figure size 432x288 with 1 Axes>"
      ]
     },
     "metadata": {
      "needs_background": "light"
     },
     "output_type": "display_data"
    }
   ],
   "source": [
    "plt.scatter(X,Y,marker='.')\n",
    "plt.plot(X,(m[-1]*X + b[-1]))\n",
    "plt.xlabel('Sepal Length(in cm)')\n",
    "plt.ylabel('Sepal Width(in cm)')\n",
    "plt.title('Sepal length vs width of Iris-Setosa Species',color='green',fontsize=16)\n",
    "plt.show()"
   ]
  },
  {
   "cell_type": "code",
   "execution_count": 19,
   "id": "f73b0467",
   "metadata": {},
   "outputs": [
    {
     "data": {
      "image/png": "[encoded data removed]",
      "text/plain": [
       "<Figure size 432x288 with 1 Axes>"
      ]
     },
     "metadata": {
      "needs_background": "light"
     },
     "output_type": "display_data"
    }
   ],
   "source": [
    "plt.scatter(X,Y,marker='.')\n",
    "# Without Gradient Descent\n",
    "plt.plot(X, regr.coef_[0][0]*X + regr.intercept_[0], '-r')\n",
    "\n",
    "# With Gradient Descent\n",
    "plt.plot(X,m[-1]*X + b[-1],'g')\n",
    "\n",
    "plt.xlabel('Sepal Length(in cm)')\n",
    "plt.ylabel('Sepal Width(in cm)')\n",
    "plt.title('Sepal length vs width of Iris-Setosa Species',color='b',fontsize=16)\n",
    "plt.show()"
   ]
  },
  {
   "cell_type": "code",
   "execution_count": null,
   "id": "b5751556",
   "metadata": {},
   "outputs": [],
   "source": []
  },
  {
   "cell_type": "code",
   "execution_count": null,
   "id": "f427a9d5",
   "metadata": {},
   "outputs": [],
   "source": []
  }
 ],
 "metadata": {
  "kernelspec": {
   "display_name": "Python 3",
   "language": "python",
   "name": "python3"
  },
  "language_info": {
   "codemirror_mode": {
    "name": "ipython",
    "version": 3
   },
   "file_extension": ".py",
   "mimetype": "text/x-python",
   "name": "python",
   "nbconvert_exporter": "python",
   "pygments_lexer": "ipython3",
   "version": "3.8.8"
  }
 },
 "nbformat": 4,
 "nbformat_minor": 5
}
